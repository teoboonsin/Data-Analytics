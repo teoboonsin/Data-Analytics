{
 "cells": [
  {
   "cell_type": "code",
   "execution_count": 174,
   "metadata": {},
   "outputs": [],
   "source": [
    "\n",
    "def Sort_List_Elements(a,b):\n",
    "    a.sort()\n",
    "    b.sort()\n",
    "    for num in b:\n",
    "        a.append(num)\n",
    "        a.sort()\n",
    "        print a\n",
    "\n",
    "    return a\n",
    "\n",
    "\n",
    "def MergeSort(num_list):\n",
    "    \n",
    "    store_list=[]\n",
    "    i=0\n",
    "    \n",
    "    #first sort\n",
    "    while (i+2)<=len(num_list):\n",
    "        a=list([num_list[i],num_list[i+1]])\n",
    "        a.sort()\n",
    "        store_list.append(a)\n",
    "\n",
    "        print store_list\n",
    "        i+=2\n",
    "  \n",
    "    num_list=store_list\n",
    "    store_list=[]\n",
    "    i=0\n",
    "    \n",
    "    while len(num_list)!=1:\n",
    "        while (i+2)<=len(num_list):\n",
    "            a=Sort_List_Elements(num_list[i],num_list[i+1])\n",
    "            store_list.append(a)\n",
    "            store_list.sort()\n",
    "            print store_list\n",
    "            i+=2\n",
    "        \n",
    "        num_list=store_list\n",
    "        store_list=[]\n",
    "        i=0\n",
    "                        \n",
    "    \n",
    "    return num_list[0]\n",
    "\n",
    "\n",
    "def BubbleSort(num_list):\n",
    "    #store_list=[]\n",
    "    num=len(num_list)\n",
    "    i=0\n",
    "    count=0\n",
    "    \n",
    "    while True:\n",
    "        i=0\n",
    "        count=0\n",
    "        while i<num-1:\n",
    "\n",
    "            if num_list[i]<=num_list[i+1]:\n",
    "                i+=1\n",
    "\n",
    "                \n",
    "            else:\n",
    "                a=num_list[i]\n",
    "                num_list[i]=num_list[i+1]\n",
    "                num_list[i+1]=a\n",
    "                count+=1\n",
    "                print num_list\n",
    "        \n",
    "                i+=1\n",
    "        \n",
    "        if count==0:\n",
    "            return num_list\n",
    "            break\n",
    "    \n",
    "\n",
    "        \n",
    "    return num_list\n",
    "    \n",
    "    "
   ]
  },
  {
   "cell_type": "code",
   "execution_count": null,
   "metadata": {},
   "outputs": [],
   "source": []
  },
  {
   "cell_type": "code",
   "execution_count": null,
   "metadata": {},
   "outputs": [],
   "source": []
  },
  {
   "cell_type": "code",
   "execution_count": null,
   "metadata": {
    "collapsed": true
   },
   "outputs": [],
   "source": []
  },
  {
   "cell_type": "code",
   "execution_count": null,
   "metadata": {
    "collapsed": true
   },
   "outputs": [],
   "source": []
  },
  {
   "cell_type": "code",
   "execution_count": null,
   "metadata": {
    "collapsed": true
   },
   "outputs": [],
   "source": []
  },
  {
   "cell_type": "code",
   "execution_count": null,
   "metadata": {
    "collapsed": true
   },
   "outputs": [],
   "source": []
  },
  {
   "cell_type": "code",
   "execution_count": null,
   "metadata": {
    "collapsed": true
   },
   "outputs": [],
   "source": []
  }
 ],
 "metadata": {
  "kernelspec": {
   "display_name": "Python 2",
   "language": "python",
   "name": "python2"
  },
  "language_info": {
   "codemirror_mode": {
    "name": "ipython",
    "version": 2
   },
   "file_extension": ".py",
   "mimetype": "text/x-python",
   "name": "python",
   "nbconvert_exporter": "python",
   "pygments_lexer": "ipython2",
   "version": "2.7.13"
  }
 },
 "nbformat": 4,
 "nbformat_minor": 2
}
