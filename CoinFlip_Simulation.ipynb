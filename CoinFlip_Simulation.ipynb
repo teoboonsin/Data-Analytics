{
 "cells": [
  {
   "cell_type": "code",
   "execution_count": 34,
   "metadata": {},
   "outputs": [],
   "source": [
    "import numpy as np\n",
    "#rand_num=np.random.randn()\n",
    "\n",
    "def Coin_Flip():\n",
    "    flips=int(raw_input('Please specific number of flips you want: '))\n",
    "    heads=0\n",
    "    tails=0\n",
    "    while (heads+tails)<flips:\n",
    "        \n",
    "        Z=np.random.randn()\n",
    "        \n",
    "        if Z<=0:\n",
    "            heads+=1\n",
    "        else:\n",
    "            tails+=1\n",
    "           \n",
    "    return heads,tails"
   ]
  },
  {
   "cell_type": "code",
   "execution_count": 35,
   "metadata": {},
   "outputs": [
    {
     "name": "stdout",
     "output_type": "stream",
     "text": [
      "Please specific number of flips you want: 100000\n"
     ]
    },
    {
     "data": {
      "text/plain": [
       "(50032, 49968)"
      ]
     },
     "execution_count": 35,
     "metadata": {},
     "output_type": "execute_result"
    }
   ],
   "source": [
    "Coin_Flip()"
   ]
  },
  {
   "cell_type": "code",
   "execution_count": null,
   "metadata": {},
   "outputs": [],
   "source": []
  },
  {
   "cell_type": "code",
   "execution_count": null,
   "metadata": {
    "collapsed": true
   },
   "outputs": [],
   "source": []
  }
 ],
 "metadata": {
  "kernelspec": {
   "display_name": "Python 2",
   "language": "python",
   "name": "python2"
  },
  "language_info": {
   "codemirror_mode": {
    "name": "ipython",
    "version": 2
   },
   "file_extension": ".py",
   "mimetype": "text/x-python",
   "name": "python",
   "nbconvert_exporter": "python",
   "pygments_lexer": "ipython2",
   "version": "2.7.13"
  }
 },
 "nbformat": 4,
 "nbformat_minor": 2
}
