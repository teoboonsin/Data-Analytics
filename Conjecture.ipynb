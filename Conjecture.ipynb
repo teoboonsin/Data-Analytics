{
 "cells": [
  {
   "cell_type": "code",
   "execution_count": 19,
   "metadata": {
    "collapsed": true
   },
   "outputs": [],
   "source": [
    "def Conjecture():\n",
    "    \n",
    "    count=0\n",
    "    while True:\n",
    "        n=int(raw_input('Please input the number (>1) that you want to count the no of steps to reach one using the algorithm: '))\n",
    "        \n",
    "        if n<1:\n",
    "            n=int(raw_input('Please input a number greater than one. Please try again: '))\n",
    "        \n",
    "        else:\n",
    "             \n",
    "            while n!=1:    \n",
    "                if n%2==0:\n",
    "                    n=n/2\n",
    "                    print n\n",
    "                    count+=1\n",
    "\n",
    "                else:\n",
    "                    n=n*3+1\n",
    "                    count+=1\n",
    "                \n",
    "        if n==1:\n",
    "            break\n",
    "\n",
    "               \n",
    "    \n",
    "    print \"It takes %s steps to reach the number '1' using the algorithm\" %count"
   ]
  },
  {
   "cell_type": "code",
   "execution_count": null,
   "metadata": {},
   "outputs": [],
   "source": []
  },
  {
   "cell_type": "code",
   "execution_count": null,
   "metadata": {
    "collapsed": true
   },
   "outputs": [],
   "source": []
  }
 ],
 "metadata": {
  "kernelspec": {
   "display_name": "Python 2",
   "language": "python",
   "name": "python2"
  },
  "language_info": {
   "codemirror_mode": {
    "name": "ipython",
    "version": 2
   },
   "file_extension": ".py",
   "mimetype": "text/x-python",
   "name": "python",
   "nbconvert_exporter": "python",
   "pygments_lexer": "ipython2",
   "version": "2.7.13"
  }
 },
 "nbformat": 4,
 "nbformat_minor": 2
}
