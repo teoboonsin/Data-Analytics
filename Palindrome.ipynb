{
 "cells": [
  {
   "cell_type": "code",
   "execution_count": 28,
   "metadata": {
    "collapsed": true
   },
   "outputs": [],
   "source": [
    "def Palindrom_Check_one():\n",
    "    \n",
    "    letter=str(raw_input('Please input a word to check if it is Palindrome: '))\n",
    "    l=[]\n",
    "    let_list=[]\n",
    "    i=0\n",
    "    length=len(letter)\n",
    "\n",
    "    for num in letter:\n",
    "        let_list.append(num)\n",
    "   \n",
    "    while i<length:\n",
    "        l.append(let_list.pop())\n",
    "        \n",
    "        i+=1\n",
    "    \n",
    "    rev_let=''\n",
    "    for num in l:\n",
    "        rev_let+=num\n",
    "    \n",
    "    if rev_let==letter:\n",
    "        return True\n",
    "    else:\n",
    "        return False\n",
    "\n",
    "    \n",
    "def Palindrom_Check_two():    \n",
    "    \n",
    "    letter=str(raw_input('Please input a word to check if it is Palindrome: '))\n",
    "    \n",
    "    rev_letter=letter[::-1]\n",
    "    \n",
    "    if letter==rev_letter:\n",
    "        return True\n",
    "    else:\n",
    "        return False\n",
    "\n"
   ]
  },
  {
   "cell_type": "code",
   "execution_count": null,
   "metadata": {},
   "outputs": [],
   "source": []
  },
  {
   "cell_type": "code",
   "execution_count": null,
   "metadata": {},
   "outputs": [],
   "source": []
  },
  {
   "cell_type": "raw",
   "metadata": {},
   "source": []
  },
  {
   "cell_type": "code",
   "execution_count": null,
   "metadata": {
    "collapsed": true
   },
   "outputs": [],
   "source": []
  }
 ],
 "metadata": {
  "kernelspec": {
   "display_name": "Python 2",
   "language": "python",
   "name": "python2"
  },
  "language_info": {
   "codemirror_mode": {
    "name": "ipython",
    "version": 2
   },
   "file_extension": ".py",
   "mimetype": "text/x-python",
   "name": "python",
   "nbconvert_exporter": "python",
   "pygments_lexer": "ipython2",
   "version": "2.7.13"
  }
 },
 "nbformat": 4,
 "nbformat_minor": 2
}
