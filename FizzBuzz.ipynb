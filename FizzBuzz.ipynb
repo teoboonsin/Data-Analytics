{
 "cells": [
  {
   "cell_type": "code",
   "execution_count": 17,
   "metadata": {},
   "outputs": [],
   "source": [
    "def FizzBuzz():\n",
    "    n=range(1,101)\n",
    "    \n",
    "    for num in n:\n",
    "        if num%3==0 and num%5!=0:\n",
    "            n[num-1]='Fizz'\n",
    "        elif num%5==0 and num%3!=0:\n",
    "            n[num-1]='Buzz'\n",
    "            \n",
    "        elif num%3==0 and num%5==0:\n",
    "            n[num-1]='FizzBuzz'\n",
    "      \n",
    "    return n\n",
    "    "
   ]
  },
  {
   "cell_type": "code",
   "execution_count": null,
   "metadata": {},
   "outputs": [],
   "source": []
  },
  {
   "cell_type": "code",
   "execution_count": null,
   "metadata": {
    "collapsed": true
   },
   "outputs": [],
   "source": []
  }
 ],
 "metadata": {
  "kernelspec": {
   "display_name": "Python 2",
   "language": "python",
   "name": "python2"
  },
  "language_info": {
   "codemirror_mode": {
    "name": "ipython",
    "version": 2
   },
   "file_extension": ".py",
   "mimetype": "text/x-python",
   "name": "python",
   "nbconvert_exporter": "python",
   "pygments_lexer": "ipython2",
   "version": "2.7.13"
  }
 },
 "nbformat": 4,
 "nbformat_minor": 2
}
