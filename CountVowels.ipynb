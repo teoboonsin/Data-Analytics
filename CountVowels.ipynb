{
 "cells": [
  {
   "cell_type": "code",
   "execution_count": 3,
   "metadata": {
    "collapsed": true
   },
   "outputs": [],
   "source": [
    "def CountVowels(n):\n",
    "\n",
    "    vowel_dict={}\n",
    "    count_a=0\n",
    "    count_e=0\n",
    "    count_i=0\n",
    "    count_o=0\n",
    "    count_u=0\n",
    "    \n",
    "    for num in n.lower():\n",
    "        \n",
    "        if num=='a':\n",
    "            count_a+=1\n",
    "            vowel_dict['a']=count_a\n",
    "            \n",
    "        elif num=='e':\n",
    "            count_e+=1\n",
    "            vowel_dict['e']=count_e\n",
    "            \n",
    "        elif num=='i':\n",
    "            count_i+=1\n",
    "            vowel_dict['i']=count_i\n",
    "            \n",
    "        elif num=='o':\n",
    "            count_o+=1\n",
    "            vowel_dict['o']=count_o\n",
    "            \n",
    "        elif num=='u':\n",
    "            count_u+=1\n",
    "            vowel_dict['u']=count_u\n",
    "    \n",
    "    return vowel_dict"
   ]
  },
  {
   "cell_type": "code",
   "execution_count": null,
   "metadata": {},
   "outputs": [],
   "source": []
  },
  {
   "cell_type": "code",
   "execution_count": null,
   "metadata": {
    "collapsed": true
   },
   "outputs": [],
   "source": []
  }
 ],
 "metadata": {
  "kernelspec": {
   "display_name": "Python 2",
   "language": "python",
   "name": "python2"
  },
  "language_info": {
   "codemirror_mode": {
    "name": "ipython",
    "version": 2
   },
   "file_extension": ".py",
   "mimetype": "text/x-python",
   "name": "python",
   "nbconvert_exporter": "python",
   "pygments_lexer": "ipython2",
   "version": "2.7.13"
  }
 },
 "nbformat": 4,
 "nbformat_minor": 2
}
