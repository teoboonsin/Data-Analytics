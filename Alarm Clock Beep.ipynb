{
 "cells": [
  {
   "cell_type": "code",
   "execution_count": 49,
   "metadata": {
    "collapsed": true
   },
   "outputs": [],
   "source": [
    "import datetime\n",
    "import winsound"
   ]
  },
  {
   "cell_type": "code",
   "execution_count": 50,
   "metadata": {
    "collapsed": true
   },
   "outputs": [],
   "source": [
    "d=datetime.timedelta(seconds=1)"
   ]
  },
  {
   "cell_type": "code",
   "execution_count": 51,
   "metadata": {
    "collapsed": true
   },
   "outputs": [],
   "source": [
    "date1=datetime.datetime.now().strftime('%Y-%m-%d')\n",
    "time=datetime.datetime.now()\n",
    "time1=datetime.datetime.now().strftime('%H')\n",
    "time2=datetime.datetime.now().strftime('%M')\n",
    "time3=datetime.datetime.now().strftime('%S')"
   ]
  },
  {
   "cell_type": "code",
   "execution_count": 52,
   "metadata": {},
   "outputs": [
    {
     "name": "stdout",
     "output_type": "stream",
     "text": [
      "2017-12-19 22:31:44.857000\n"
     ]
    }
   ],
   "source": [
    "print time"
   ]
  },
  {
   "cell_type": "code",
   "execution_count": 53,
   "metadata": {},
   "outputs": [
    {
     "name": "stdout",
     "output_type": "stream",
     "text": [
      "The date today is 2017-12-19.\n"
     ]
    }
   ],
   "source": [
    "print 'The date today is %s.' %date1"
   ]
  },
  {
   "cell_type": "code",
   "execution_count": 54,
   "metadata": {},
   "outputs": [
    {
     "name": "stdout",
     "output_type": "stream",
     "text": [
      "The time now is 22 hours, 31 minutes, and 44 seconds.\n"
     ]
    }
   ],
   "source": [
    "print 'The time now is {} hours, {} minutes, and {} seconds.'.format(time1, time2, time3)"
   ]
  },
  {
   "cell_type": "code",
   "execution_count": 73,
   "metadata": {},
   "outputs": [
    {
     "name": "stdout",
     "output_type": "stream",
     "text": [
      "Please input how many minutes/seconds later you want the alarm to sound: 10\n"
     ]
    }
   ],
   "source": [
    "userinput=int(raw_input('Please input how many minutes/seconds later you want the alarm to sound: '))"
   ]
  },
  {
   "cell_type": "code",
   "execution_count": 75,
   "metadata": {},
   "outputs": [
    {
     "name": "stdout",
     "output_type": "stream",
     "text": [
      "It has been 278 seconds\n"
     ]
    }
   ],
   "source": [
    "timedelta=datetime.datetime.now()-time\n",
    "while True:\n",
    "    timedelta=datetime.datetime.now()-time\n",
    "    if timedelta.seconds>=userinput:\n",
    "        print 'It has been %s seconds' %timedelta.seconds\n",
    "        winsound.MessageBeep()\n",
    "        break\n",
    "    else:\n",
    "        timedelta=datetime.datetime.now()-time\n"
   ]
  },
  {
   "cell_type": "code",
   "execution_count": null,
   "metadata": {},
   "outputs": [],
   "source": []
  },
  {
   "cell_type": "code",
   "execution_count": null,
   "metadata": {
    "collapsed": true
   },
   "outputs": [],
   "source": [
    "\n",
    "\n"
   ]
  },
  {
   "cell_type": "raw",
   "metadata": {},
   "source": []
  },
  {
   "cell_type": "code",
   "execution_count": null,
   "metadata": {
    "collapsed": true
   },
   "outputs": [],
   "source": []
  },
  {
   "cell_type": "code",
   "execution_count": null,
   "metadata": {
    "collapsed": true
   },
   "outputs": [],
   "source": []
  },
  {
   "cell_type": "code",
   "execution_count": null,
   "metadata": {
    "collapsed": true
   },
   "outputs": [],
   "source": []
  }
 ],
 "metadata": {
  "kernelspec": {
   "display_name": "Python 2",
   "language": "python",
   "name": "python2"
  },
  "language_info": {
   "codemirror_mode": {
    "name": "ipython",
    "version": 2
   },
   "file_extension": ".py",
   "mimetype": "text/x-python",
   "name": "python",
   "nbconvert_exporter": "python",
   "pygments_lexer": "ipython2",
   "version": "2.7.13"
  }
 },
 "nbformat": 4,
 "nbformat_minor": 2
}
